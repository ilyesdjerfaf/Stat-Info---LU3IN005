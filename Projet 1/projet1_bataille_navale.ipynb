{
  "nbformat": 4,
  "nbformat_minor": 0,
  "metadata": {
    "colab": {
      "provenance": [],
      "collapsed_sections": [],
      "toc_visible": true
    },
    "kernelspec": {
      "name": "python3",
      "display_name": "Python 3"
    },
    "language_info": {
      "name": "python"
    }
  },
  "cells": [
    {
      "cell_type": "markdown",
      "source": [
        "#**Parite 1 : Modélisation et fonctions simples**"
      ],
      "metadata": {
        "id": "ZGFtLzhLnENj"
      }
    },
    {
      "cell_type": "code",
      "source": [
        "##### ------ imports ------ #####\n",
        "\n",
        "import numpy as np\n",
        "import random as rd\n",
        "import matplotlib.pyplot as plt\n",
        "\n",
        "##### ------ codage et dictionnaire ------ #####\n",
        "\n",
        "bateau_code = {\"porte_avion\": 1, \"croiseur\": 2,\n",
        "               \"contre_torpilleurs\": 3, \"sous_marin\": 4, \"torpilleur\": 5}\n",
        "\n",
        "bateau_longueur = {1: 5, 2: 4, 3: 3, 4: 3, 5: 2}\n",
        "\n",
        "##### ------ taille de la grille ------ #####\n",
        "\n",
        "taille_grille=2\n",
        "while taille_grille<10:\n",
        "  taille_grille=int(input(\"Donner la taille de la grille 'T x T' (minimum 10): \"))"
      ],
      "metadata": {
        "colab": {
          "base_uri": "https://localhost:8080/"
        },
        "id": "a_neOaYHnzf4",
        "outputId": "bb869179-adbe-4508-c0bc-ae0d6a2fd0b7"
      },
      "execution_count": 1,
      "outputs": [
        {
          "name": "stdout",
          "output_type": "stream",
          "text": [
            "Donner la taille de la grille 'T x T' (minimum 10): 10\n"
          ]
        }
      ]
    },
    {
      "cell_type": "markdown",
      "source": [
        "## Fonction peut_placer"
      ],
      "metadata": {
        "id": "SBuVHhpXn2-8"
      }
    },
    {
      "cell_type": "code",
      "source": [
        "def peut_placer(grille_pp, bateau, position, direction):\n",
        "    # recuperation des coordonnées de la postion\n",
        "    Px, Py = position\n",
        "\n",
        "    # recuperation de la longueur de bateau\n",
        "    longueur = bateau_longueur[bateau]\n",
        "\n",
        "    # tester les conditions nécessaires ex : les coordonnées de la position \n",
        "    # doivent etre comprise entre 0 et taille de la grille - 1\n",
        "\n",
        "    if((Px >= taille_grille) or (Py >= taille_grille) or (Px <0) or (Py <0)):\n",
        "        return False\n",
        "    if(direction != 1 and direction != 2):\n",
        "        return False\n",
        "    if(bateau > 5 or bateau < 1):\n",
        "        return False\n",
        "    if(grille_pp[Px, Py] != 0):\n",
        "        return False\n",
        "    else:\n",
        "      # si insertion horizontale on test l'axe des y\n",
        "        if(direction == 1):\n",
        "            if(Py+longueur > len(grille_pp)):\n",
        "                return False\n",
        "            else:\n",
        "                i = 0\n",
        "                while(i < longueur):\n",
        "                    if(grille_pp[Px, Py+i] != 0):\n",
        "                        return False\n",
        "                    i += 1\n",
        "                return True\n",
        "        # si insertion horizontale on test l'axe des x\n",
        "        else:\n",
        "            if(Px+longueur > len(grille_pp)):\n",
        "                return False\n",
        "            else:\n",
        "                i = 0\n",
        "                while(i < longueur):\n",
        "                    if(grille_pp[Px+i, Py] != 0):\n",
        "                        return False\n",
        "                    i += 1\n",
        "                return True"
      ],
      "metadata": {
        "id": "7twutTMSn_Jf"
      },
      "execution_count": 2,
      "outputs": []
    },
    {
      "cell_type": "markdown",
      "source": [
        "### Test"
      ],
      "metadata": {
        "id": "XIaLpV88Jy4D"
      }
    },
    {
      "cell_type": "code",
      "source": [
        "# bateau = 3\n",
        "# direction = 2\n",
        "# position = (0,0)\n",
        "# grille_pp = np.zeros((taille_grille, taille_grille))\n",
        "# # vous pouver voir qu'avec np.ones ça va retourner faux par exemple\n",
        "# #grille_pp = np.ones((taille_grille, taille_grille))\n",
        "# peut_placer(grille_pp, bateau, position, direction)"
      ],
      "metadata": {
        "id": "UT6paKmYJ4PI"
      },
      "execution_count": null,
      "outputs": []
    },
    {
      "cell_type": "markdown",
      "source": [
        "## Fonction place"
      ],
      "metadata": {
        "id": "P6X83qGJoBe2"
      }
    },
    {
      "cell_type": "code",
      "source": [
        "def place(grille_p, bateau, position, direction):\n",
        "    # on place un bateau uniquement si peut_placer == True\n",
        "    if(peut_placer(grille_p, bateau, position, direction) == True):\n",
        "        Px, Py = position\n",
        "        longueur = bateau_longueur[bateau]\n",
        "        # placer horizontalement\n",
        "        if(direction == 1):\n",
        "            i = 0\n",
        "            while(i < longueur):\n",
        "                grille_p[Px, Py+i] = bateau\n",
        "                i += 1\n",
        "        # placer verticalement\n",
        "        else:\n",
        "            i = 0\n",
        "            while(i < longueur):\n",
        "                grille_p[Px+i, Py] = bateau\n",
        "                i += 1"
      ],
      "metadata": {
        "id": "jEcX0Lh8oEgL"
      },
      "execution_count": 3,
      "outputs": []
    },
    {
      "cell_type": "markdown",
      "source": [
        "### Test"
      ],
      "metadata": {
        "id": "zMIyjy2QKssm"
      }
    },
    {
      "cell_type": "code",
      "source": [
        "# bateau = 3\n",
        "# direction = 2\n",
        "# position = (0,0)\n",
        "# # on utilise la fonction affiche pour afficher avant et apres place\n",
        "# grille_pp = np.zeros((taille_grille, taille_grille))"
      ],
      "metadata": {
        "id": "hmJp2OnPKuou"
      },
      "execution_count": null,
      "outputs": []
    },
    {
      "cell_type": "code",
      "source": [
        "# affiche(grille_pp) # la fonction affiche est définit plus loin "
      ],
      "metadata": {
        "id": "SQ7blhddLQ7G"
      },
      "execution_count": null,
      "outputs": []
    },
    {
      "cell_type": "code",
      "source": [
        "# place(grille_pp, bateau, position, direction)"
      ],
      "metadata": {
        "id": "CnPyUwsHLOh6"
      },
      "execution_count": null,
      "outputs": []
    },
    {
      "cell_type": "code",
      "source": [
        "# affiche(grille_pp)"
      ],
      "metadata": {
        "id": "gwx67sHELU9O"
      },
      "execution_count": null,
      "outputs": []
    },
    {
      "cell_type": "markdown",
      "source": [
        "## Fonction place_alea"
      ],
      "metadata": {
        "id": "x48ohrpRoIE0"
      }
    },
    {
      "cell_type": "code",
      "source": [
        "def place_alea(grille_pa, bateau):\n",
        "    valide = False\n",
        "    #initialisation d'un boolean qui nous indique si on peut placer ce bateau\n",
        "    while(valide == False):\n",
        "        #generer des coordonnées aléatoirement à l'aide de module random \n",
        "        # voir : https://docs.python.org/3/library/random.html\n",
        "        Px = rd.randint(0, taille_grille -1)\n",
        "        Py = rd.randint(0, taille_grille -1)\n",
        "\n",
        "        #generer une direction aléatoirement à l'aide de module random \n",
        "        direction = rd.randint(1, 2)\n",
        "        position = Px, Py\n",
        "\n",
        "        #appler peut placer\n",
        "        valide = peut_placer(grille_pa, bateau, position, direction)\n",
        "\n",
        "    #si peut_placer == True alors on place le bateau\n",
        "    place(grille_pa, bateau, position, direction)"
      ],
      "metadata": {
        "id": "H0tjLmpKoKm2"
      },
      "execution_count": 4,
      "outputs": []
    },
    {
      "cell_type": "markdown",
      "source": [
        "### Test"
      ],
      "metadata": {
        "id": "KkFtQeWBLisr"
      }
    },
    {
      "cell_type": "code",
      "source": [
        "# grille_pp = np.zeros((taille_grille, taille_grille))\n",
        "# affiche(grille_pp)"
      ],
      "metadata": {
        "id": "YohMuMIiLkZg"
      },
      "execution_count": null,
      "outputs": []
    },
    {
      "cell_type": "code",
      "source": [
        "# place_alea(grille_pp,2)"
      ],
      "metadata": {
        "id": "qH0wkTrFLvpE"
      },
      "execution_count": null,
      "outputs": []
    },
    {
      "cell_type": "code",
      "source": [
        "# affiche(grille_pp)"
      ],
      "metadata": {
        "id": "eiSNxlbcLwIG"
      },
      "execution_count": null,
      "outputs": []
    },
    {
      "cell_type": "markdown",
      "source": [
        "## Fonction affiche"
      ],
      "metadata": {
        "id": "RFO9Tg5noM3d"
      }
    },
    {
      "cell_type": "code",
      "source": [
        "def affiche(grille_a):\n",
        "  labels = ['0', '1', '2', '3', '4', '5', '6', '7', '8', '9']\n",
        "  plt.xticks(np.arange(-0.5, 10, 1.0),labels)\n",
        "  plt.yticks(np.arange(-0.5, 10, 1.0),labels)\n",
        "  plt.grid()\n",
        "  plt.imshow(grille_a)"
      ],
      "metadata": {
        "id": "2IVBaOr1oYnm"
      },
      "execution_count": 5,
      "outputs": []
    },
    {
      "cell_type": "markdown",
      "source": [
        "## Fonction eq"
      ],
      "metadata": {
        "id": "AASisK55obGf"
      }
    },
    {
      "cell_type": "code",
      "source": [
        "def eq(grilleA, grilleB):\n",
        "    # on compare chaque ligne si elle est egale a l'autre pour chaque ligne de la matrice\n",
        "    # grace a la fonction array_equal voir : https://numpy.org/doc/stable/reference/generated/numpy.array_equal.html\n",
        "    return np.array_equal(grilleA, grilleB)"
      ],
      "metadata": {
        "id": "Km2dmoraoeCm"
      },
      "execution_count": 6,
      "outputs": []
    },
    {
      "cell_type": "markdown",
      "source": [
        "### Test"
      ],
      "metadata": {
        "id": "ZgHpKCwWMgk6"
      }
    },
    {
      "cell_type": "code",
      "source": [
        "# grille_1 = np.zeros((taille_grille, taille_grille))\n",
        "# grille_2 = np.ones((taille_grille, taille_grille))\n",
        "# eq(grille_1, grille_2)"
      ],
      "metadata": {
        "id": "sTBduiThMi_l"
      },
      "execution_count": null,
      "outputs": []
    },
    {
      "cell_type": "markdown",
      "source": [
        "## Fonction genere_grille"
      ],
      "metadata": {
        "id": "yrJmxu1hohIy"
      }
    },
    {
      "cell_type": "code",
      "execution_count": 7,
      "metadata": {
        "id": "WHKyNj5Z_cBa"
      },
      "outputs": [],
      "source": [
        "def genere_grille():\n",
        "    # initialiser une grille à zero \n",
        "    # voir : https://numpy.org/doc/stable/reference/generated/numpy.zeros.html\n",
        "    grille_gg = np.zeros((taille_grille, taille_grille))\n",
        "\n",
        "    for i in range(1, 6):\n",
        "      # pour chaque bateau de 1 à 5, on le place aléatoirement\n",
        "        bateau = i\n",
        "        place_alea(grille_gg, bateau)\n",
        "    \n",
        "    #retourner a la fin la grille\n",
        "    return grille_gg"
      ]
    },
    {
      "cell_type": "markdown",
      "source": [
        "## Test"
      ],
      "metadata": {
        "id": "FPa1-lQ3M0Cn"
      }
    },
    {
      "cell_type": "code",
      "source": [
        "# affiche(genere_grille())"
      ],
      "metadata": {
        "id": "X73DOflhM1r5"
      },
      "execution_count": null,
      "outputs": []
    },
    {
      "cell_type": "markdown",
      "source": [
        "# **Partie 2 :  Combinatoire du jeu**"
      ],
      "metadata": {
        "id": "IkAWJh2rnNMI"
      }
    },
    {
      "cell_type": "markdown",
      "source": [
        "## Question 2"
      ],
      "metadata": {
        "id": "EB5Yg2ejouxl"
      }
    },
    {
      "cell_type": "code",
      "source": [
        "def nbr_facon_placer_bateau_grille_vide(bateau):\n",
        "    return (taille_grille - bateau_longueur[bateau] + 1) * taille_grille * 2"
      ],
      "metadata": {
        "id": "AXkpkOmRo5EL"
      },
      "execution_count": 8,
      "outputs": []
    },
    {
      "cell_type": "markdown",
      "source": [
        "### Test"
      ],
      "metadata": {
        "id": "ZyDnaltaM6IK"
      }
    },
    {
      "cell_type": "code",
      "source": [
        "# print(nbr_facon_placer_bateau_grille_vide(1))\n",
        "\n",
        "# print(nbr_facon_placer_bateau_grille_vide(2))\n",
        "# # remarque voici le codage utilisé: \n",
        "# # bateau_code = {\"porte_avion\": 1, \"croiseur\": 2, \"contre_torpilleurs\": 3, \"sous_marin\": 4, \"torpilleur\": 5}"
      ],
      "metadata": {
        "id": "ClN-oA11M81F"
      },
      "execution_count": null,
      "outputs": []
    },
    {
      "cell_type": "markdown",
      "source": [
        "## Question 3"
      ],
      "metadata": {
        "id": "htKJ8LA9o6ti"
      }
    },
    {
      "cell_type": "code",
      "source": [
        "def nbr_facon_placer_liste_bateaux_grille_vide(grille_vide, liste_bateau):\n",
        "  compteur=0\n",
        "  if(len(liste_bateau)==0): # si la liste de bateau est vide on retourne 1\n",
        "    return 1\n",
        "  else:\n",
        "    for i in range(taille_grille):\n",
        "        for j in range(taille_grille):\n",
        "            for direction in [1, 2]: \n",
        "              # pour chaque position dans la matrice, dans les deux directions\n",
        "              # on voit si on peut placer le premier bateau\n",
        "                if peut_placer(grille_vide, liste_bateau[0], (i, j), direction):\n",
        "                  # si True, alors on le place\n",
        "                    place(grille_vide, liste_bateau[0], (i, j), direction)\n",
        "                  # on appelle la fonction récursivement avec l'ensemble des bateau - le premier\n",
        "                  # et on incrémente notre compteur à chaque fois\n",
        "                    compteur+= nbr_facon_placer_liste_bateaux_grille_vide(grille_vide, liste_bateau[1:])\n",
        "                  # on supprime le bateau deja placer on refait les étirations \n",
        "                    supprimer_bateau(grille_vide, liste_bateau[0])\n",
        "    return compteur\n",
        "\n",
        "\n",
        "def supprimer_bateau(grille_sb, bateau):\n",
        "  '''fonction qui permet de supprimer un bateau donnee dans une grille'''\n",
        "  # l'idee c'est de mettre a zero toutes les cases \n",
        "  # qui correspondent à l'indice du  bateau\n",
        "  for i in range(taille_grille):\n",
        "    for j in range(taille_grille):\n",
        "      if(grille_sb[i,j]==bateau):\n",
        "        grille_sb[i,j]=0"
      ],
      "metadata": {
        "id": "eaHCLDgoo8mf"
      },
      "execution_count": 9,
      "outputs": []
    },
    {
      "cell_type": "markdown",
      "source": [
        "### Test"
      ],
      "metadata": {
        "id": "tH9sG-0hNdmD"
      }
    },
    {
      "cell_type": "code",
      "source": [
        "# # remarque il faut envoyer en parametre une grille vide\n",
        "# grille=np.zeros((taille_grille, taille_grille))\n",
        "# liste = [1,2,3]\n",
        "# print(nbr_facon_placer_liste_bateaux_grille_vide(grille,liste))"
      ],
      "metadata": {
        "id": "11TvWESLNfuw"
      },
      "execution_count": null,
      "outputs": []
    },
    {
      "cell_type": "markdown",
      "source": [
        "## Question 4"
      ],
      "metadata": {
        "id": "Gv5vQXDtpC9E"
      }
    },
    {
      "cell_type": "code",
      "source": [
        "def nbr_grilles_generees(grille_nb):\n",
        "    cpt = 0\n",
        "    # l'idee c'est d'utiliser la fonction eq entre deux matrice, \n",
        "    # la première qui est la matrice passée en argument,\n",
        "    # la deuxieme c'est la matrice genérée a partir notre fonction genere_grille \n",
        "    while(eq(grille_nb, genere_grille()) == False):\n",
        "        cpt += 1\n",
        "    return cpt"
      ],
      "metadata": {
        "id": "ldNEmfQvntM5"
      },
      "execution_count": 10,
      "outputs": []
    },
    {
      "cell_type": "markdown",
      "source": [
        "### Test : attention"
      ],
      "metadata": {
        "id": "6waGybGMOdNc"
      }
    },
    {
      "cell_type": "code",
      "source": [
        "#### encore attention: il est déconseillé de tester cette fonction car ca peut prendre jusqu'a une année haha\n",
        "### grille = genere_grille()\n",
        "### nbr_grilles_generees(grille)"
      ],
      "metadata": {
        "id": "mgIjqr9kOgb0"
      },
      "execution_count": null,
      "outputs": []
    },
    {
      "cell_type": "markdown",
      "source": [
        "# Partie 3 : Modélisation probabiliste du jeu"
      ],
      "metadata": {
        "id": "cKb1YDmnpL62"
      }
    },
    {
      "cell_type": "markdown",
      "source": [
        "## Classe Bataille"
      ],
      "metadata": {
        "id": "CsXEJVUipT14"
      }
    },
    {
      "cell_type": "code",
      "source": [
        "class Bataille:\n",
        "\n",
        "    def __init__(self):\n",
        "        #chaque bataille, a une grille aleatoire\n",
        "        # et de plus le nombre de coup tiré sur cette grille\n",
        "        self.grille = genere_grille()\n",
        "        self.taille = len(self.grille)\n",
        "        self.nombreCoup = 0\n",
        "\n",
        "\n",
        "    def nombre_cases_restantes(self, num_bateau):\n",
        "      '''fonction qui calcule le nombre de case restante pour un bateau donnée\n",
        "      on l'utilise souvent dans la fonction joue pour déterminer si un bateau est\n",
        "      coulé ou juste touché\n",
        "      '''\n",
        "      compteur = 0\n",
        "      for i in range(self.taille):\n",
        "        for j in range(self.taille):\n",
        "          if(self.grille[i, j] == num_bateau):\n",
        "            compteur += 1\n",
        "      return compteur\n",
        "\n",
        "    def joue(self, position):\n",
        "      # on récupère les coordonnées de la position\n",
        "        px = position[0]\n",
        "        py = position[1]\n",
        "      # on incrémente le nombre de coup joué\n",
        "        self.nombreCoup += 1\n",
        "      # si la case est vide, le message de retour est \"vide\"\n",
        "      # et on met la case à 20 pour la différencier dans les prochains coup\n",
        "        if(self.grille[px, py] == 0):\n",
        "            message = \"vide\"\n",
        "            \n",
        "            self.grille[px, py] = 20\n",
        "        else:\n",
        "          # on récupère l'indice du bateau à la position x y\n",
        "            valeur_position = self.grille[px, py]\n",
        "            # si le nombre de case restante avec l'indice du bateau X est egale a 1\n",
        "            # alors on va couler le bateau donc on renvoie \"coulé\" si seulement\n",
        "            # c'est un indice de bateau bien sur\n",
        "            if(0<valeur_position<6):\n",
        "              if(self.nombre_cases_restantes(num_bateau=valeur_position) == 1):\n",
        "                message = \"coulé\"\n",
        "              else:\n",
        "                # sinon le bateau est juste touché\n",
        "                message = \"touché\"\n",
        "            # on met la case à 15 pour la différencier dans les prochains coup\n",
        "              self.grille[px, py] = 15\n",
        "            # si ce n'est pas un indice d'un bateau on retourne \"vide\"\n",
        "            else:\n",
        "              message = \"vide\"\n",
        "              self.grille[px, py] = 20\n",
        "\n",
        "      # on retourne le message \n",
        "        return message\n",
        "\n",
        "\n",
        "    def victoire(self):\n",
        "      # l'idee c'est de dire : s'il reste au moin une case avec un indice d'un bateau\n",
        "      # de 1 à 5 alors on n'a pas encore gagné\n",
        "        i = 0\n",
        "        while(i < len(self.grille)):\n",
        "            j = 0\n",
        "            while(j < len(self.grille)):\n",
        "                if(self.grille[i, j] > 0 and self.grille[i, j] < 6):\n",
        "                    return False\n",
        "                j += 1\n",
        "            i += 1\n",
        "        return True\n",
        "\n",
        "    def reset(self):\n",
        "      # pour la fonction reset, on a pensé à générer une nouvelles grille aleaoire\n",
        "      # a l'aide de la fonction genere_grille\n",
        "        self.grille = genere_grille()\n",
        "\n",
        "      # si on voulait penser à reset comme mettre à zero toutes les cases de la grille\n",
        "      # alors on appliquera ce code :\n",
        "      # self.grille = np.zeros((taille_grille, taille_grille))\n"
      ],
      "metadata": {
        "id": "KDZv0bOY_gLh"
      },
      "execution_count": 11,
      "outputs": []
    },
    {
      "cell_type": "markdown",
      "source": [
        "## Classe Joueur"
      ],
      "metadata": {
        "id": "P6lQ1GX0pdM8"
      }
    },
    {
      "cell_type": "code",
      "source": [
        "class Joueur:\n",
        "  # on crée ici une classe Joueur qui contient :\n",
        "  # une liste d'action possible de 0,0 jusqu'a 9,9\n",
        "  # une bataille de type Bataille\n",
        "    def __init__(self):\n",
        "        self.action_possible = [(i, j)\n",
        "                                for i in range(0, taille_grille) for j in range(0, taille_grille)]\n",
        "        \n",
        "        self.bataille = Bataille()\n",
        "\n",
        "    def afficher_bataille(self):\n",
        "      # méthode affiche bataille pour qu'on affiche la grille avant et apres qu'on joue\n",
        "      affiche(self.bataille.grille)\n",
        "    \n",
        "\n",
        "    def tirer_position_aleatoire(self):\n",
        "      # fonction qui tire aleatoirement une positon à partir de notre liste des positions possible\n",
        "        if (len(self.action_possible) > 0):\n",
        "          # tirer une position aleatoirement\n",
        "            position = rd.choice(self.action_possible)\n",
        "          # supprimer cette positions de la liste de nos positions possibles\n",
        "            self.action_possible.remove(position)\n",
        "          # retourner la postion\n",
        "            return position"
      ],
      "metadata": {
        "id": "VgFBboI5_iqg"
      },
      "execution_count": 12,
      "outputs": []
    },
    {
      "cell_type": "markdown",
      "source": [
        "## Joueur Version aléatoire"
      ],
      "metadata": {
        "id": "3csK_Cucpjgg"
      }
    },
    {
      "cell_type": "code",
      "source": [
        "# classe Aleatoirement qui décrit la version aléatoire\n",
        "class Aleatoire(Joueur):\n",
        "  \n",
        "  def jouer_aleatoirement(self):\n",
        "    # tant qu'on n'a pas gagné encore\n",
        "        while(self.bataille.victoire() == False):\n",
        "          # on tire une position aléatoire et on joue\n",
        "            self.bataille.joue(position=super().tirer_position_aleatoire())\n",
        "      # une fois on a gagné, on retourne le nombre de coup\n",
        "        return self.bataille.nombreCoup"
      ],
      "metadata": {
        "id": "mrTB0UMUAxUB"
      },
      "execution_count": 13,
      "outputs": []
    },
    {
      "cell_type": "markdown",
      "source": [
        "### Test version aléatoire"
      ],
      "metadata": {
        "id": "_YgRy8785v3T"
      }
    },
    {
      "cell_type": "code",
      "source": [
        "joueur1 = Aleatoire()"
      ],
      "metadata": {
        "id": "SJvKBz5Q_kzr"
      },
      "execution_count": null,
      "outputs": []
    },
    {
      "cell_type": "markdown",
      "source": [
        "#### affichage de la grille avant de jouer"
      ],
      "metadata": {
        "id": "7Jtk3wcm51rr"
      }
    },
    {
      "cell_type": "code",
      "source": [
        "joueur1.afficher_bataille()"
      ],
      "metadata": {
        "colab": {
          "base_uri": "https://localhost:8080/",
          "height": 269
        },
        "id": "utQw5nUvCnRF",
        "outputId": "52a03850-b8cb-4341-bb97-c51ac238770d"
      },
      "execution_count": null,
      "outputs": [
        {
          "output_type": "display_data",
          "data": {
            "text/plain": [
              "<Figure size 432x288 with 1 Axes>"
            ],
            "image/png": "[encoded data removed]"
          },
          "metadata": {
            "needs_background": "light"
          }
        }
      ]
    },
    {
      "cell_type": "markdown",
      "source": [
        "#### jouer aléatoirement et voir le nombre de coup"
      ],
      "metadata": {
        "id": "YKu8suSo550I"
      }
    },
    {
      "cell_type": "code",
      "source": [
        "joueur1.jouer_aleatoirement()"
      ],
      "metadata": {
        "colab": {
          "base_uri": "https://localhost:8080/"
        },
        "id": "744j64w-E9GS",
        "outputId": "a92050b5-fa5f-426e-e5a8-9ce2f2863fbd"
      },
      "execution_count": null,
      "outputs": [
        {
          "output_type": "execute_result",
          "data": {
            "text/plain": [
              "100"
            ]
          },
          "metadata": {},
          "execution_count": 29
        }
      ]
    },
    {
      "cell_type": "markdown",
      "source": [
        "#### affichage de la grille apres avoir joué"
      ],
      "metadata": {
        "id": "ea5Aalrb5-CY"
      }
    },
    {
      "cell_type": "code",
      "source": [
        "joueur1.afficher_bataille()"
      ],
      "metadata": {
        "colab": {
          "base_uri": "https://localhost:8080/",
          "height": 269
        },
        "id": "VfRSedpC97nG",
        "outputId": "89f1775f-3784-4c79-c495-9f10ddf9d1fa"
      },
      "execution_count": null,
      "outputs": [
        {
          "output_type": "display_data",
          "data": {
            "text/plain": [
              "<Figure size 432x288 with 1 Axes>"
            ],
            "image/png": "[encoded data removed]"
          },
          "metadata": {
            "needs_background": "light"
          }
        }
      ]
    },
    {
      "cell_type": "markdown",
      "source": [
        "###  distribution de la variable aléatoire correspondant au nombre de coups pour terminer une partie "
      ],
      "metadata": {
        "id": "zAMD3P4Z6Naj"
      }
    },
    {
      "cell_type": "code",
      "source": [
        "distribution_aleatoire=[]\n",
        "# on cree une liste vide on la remplie a chaque fois qu'on joue pour former la distibution\n",
        "# on calcule la distribution pour 1000 fois joué\n",
        "for i in range(1,1001):\n",
        "  joueur1 = Aleatoire()\n",
        "  compteur=joueur1.jouer_aleatoirement()\n",
        "  distribution_aleatoire.append(compteur)"
      ],
      "metadata": {
        "id": "g0r5i2DQS-ca"
      },
      "execution_count": 14,
      "outputs": []
    },
    {
      "cell_type": "markdown",
      "source": [
        "#### Tracez le graphique de la distribution"
      ],
      "metadata": {
        "id": "aoywzHcY6Hdt"
      }
    },
    {
      "cell_type": "code",
      "source": [
        "plt.hist(distribution_aleatoire)\n",
        "plt.xlabel('nombre de cout')\n",
        "plt.ylabel(\"nombre d'occurence\")\n",
        "plt.show()"
      ],
      "metadata": {
        "colab": {
          "base_uri": "https://localhost:8080/",
          "height": 279
        },
        "id": "nVMVlB6HUg-K",
        "outputId": "d40515cd-5f92-46f0-dc48-906118941d16"
      },
      "execution_count": null,
      "outputs": [
        {
          "output_type": "display_data",
          "data": {
            "text/plain": [
              "<Figure size 432x288 with 1 Axes>"
            ],
            "image/png": "[encoded data removed]"
          },
          "metadata": {
            "needs_background": "light"
          }
        }
      ]
    },
    {
      "cell_type": "markdown",
      "source": [
        "## Joueur Version heuristique"
      ],
      "metadata": {
        "id": "4Tuq9HWmprsY"
      }
    },
    {
      "cell_type": "code",
      "source": [
        "class Heuristique(Joueur):\n",
        "  def jouer_heuristique(self):\n",
        "    # on cree une liste de bateau touche qui est initialement vide\n",
        "    bateau_touche = []\n",
        "    while (self.bataille.victoire() == False):\n",
        "      # tant qu'on a pas encore gagné\n",
        "      if(len(bateau_touche)==0):\n",
        "        # si la liste de bateau de touché est vide alors on joue aleatoirement \n",
        "        # on tire une position aleatoire\n",
        "        pos = super().tirer_position_aleatoire()\n",
        "        # et on joue\n",
        "        msg_analyse = self.bataille.joue(position=pos)\n",
        "        #  si on touche un bateau, alors on insert la position du bateau dans notre liste de bateau touché\n",
        "        if(msg_analyse == \"touché\"):\n",
        "          bateau_touche.append(pos)\n",
        "      else:\n",
        "        # ici la liste de bateau de touché n'est  oas vide alors\n",
        "        # on exploite les cases connexes\n",
        "        positon_bat_touche=bateau_touche[0]\n",
        "        px,py=positon_bat_touche\n",
        "\n",
        "        pos_connexe=[(px+1,py), (px-1,py), (px,py+1), (px,py-1)]\n",
        "        #pour chaque position connexe\n",
        "        for p in pos_connexe:\n",
        "          # si la position est une action possible \n",
        "          if p in (self.action_possible):\n",
        "            # on joue dans la case connexe\n",
        "            msg_analyse = self.bataille.joue(position=p)\n",
        "            # on supprime la postion jouée\n",
        "            self.action_possible.remove(p)\n",
        "            # on analyse le message de retour \n",
        "            if(msg_analyse == \"touché\"):\n",
        "              # si on a touché un bateau alors on ajoute cette position a notre liste de bateau touché\n",
        "              bateau_touche.append(p)\n",
        "        \n",
        "        #on supprime la position dont on a exploité ses case connexe \n",
        "        bateau_touche.pop(0)\n",
        "    \n",
        "    # a la fin on retourne le nombre de coup\n",
        "    return self.bataille.nombreCoup"
      ],
      "metadata": {
        "id": "4rj4Za_vBIcK"
      },
      "execution_count": 15,
      "outputs": []
    },
    {
      "cell_type": "markdown",
      "source": [
        "### Test version heuristique"
      ],
      "metadata": {
        "id": "H01UFf1dIlGV"
      }
    },
    {
      "cell_type": "code",
      "source": [
        "joueur2 = Heuristique()"
      ],
      "metadata": {
        "id": "ndHP_sBzF2KZ"
      },
      "execution_count": null,
      "outputs": []
    },
    {
      "cell_type": "markdown",
      "source": [
        "#### affichage de la grille avant de jouer"
      ],
      "metadata": {
        "id": "BjrOeXGBIpRu"
      }
    },
    {
      "cell_type": "code",
      "source": [
        "joueur2.afficher_bataille()"
      ],
      "metadata": {
        "colab": {
          "base_uri": "https://localhost:8080/",
          "height": 269
        },
        "id": "Tsy3NLeKF95C",
        "outputId": "4dce16d8-3c00-47b3-adea-177612f1f27f"
      },
      "execution_count": null,
      "outputs": [
        {
          "output_type": "display_data",
          "data": {
            "text/plain": [
              "<Figure size 432x288 with 1 Axes>"
            ],
            "image/png": "[encoded data removed]"
          },
          "metadata": {
            "needs_background": "light"
          }
        }
      ]
    },
    {
      "cell_type": "markdown",
      "source": [
        "#### jouer heuristiquement et voir le nombre de coup"
      ],
      "metadata": {
        "id": "SxAXJ_xjItfZ"
      }
    },
    {
      "cell_type": "code",
      "source": [
        "joueur2.jouer_heuristique()"
      ],
      "metadata": {
        "colab": {
          "base_uri": "https://localhost:8080/"
        },
        "id": "FTcpNq_oN3Yz",
        "outputId": "a5195849-1cb5-4771-ec59-a93eeda60447"
      },
      "execution_count": null,
      "outputs": [
        {
          "output_type": "execute_result",
          "data": {
            "text/plain": [
              "61"
            ]
          },
          "metadata": {},
          "execution_count": 36
        }
      ]
    },
    {
      "cell_type": "markdown",
      "source": [
        "#### affichage de la grille apres avoir joué"
      ],
      "metadata": {
        "id": "EgznRaD8Izyc"
      }
    },
    {
      "cell_type": "code",
      "source": [
        "joueur2.afficher_bataille()"
      ],
      "metadata": {
        "colab": {
          "base_uri": "https://localhost:8080/",
          "height": 269
        },
        "id": "W0HQcaAp3vZD",
        "outputId": "486c81f9-b0b8-4808-a081-644e1358c927"
      },
      "execution_count": null,
      "outputs": [
        {
          "output_type": "display_data",
          "data": {
            "text/plain": [
              "<Figure size 432x288 with 1 Axes>"
            ],
            "image/png": "[encoded data removed]"
          },
          "metadata": {
            "needs_background": "light"
          }
        }
      ]
    },
    {
      "cell_type": "markdown",
      "source": [
        "###  distribution de la variable aléatoire correspondant au nombre de coups pour terminer une partie"
      ],
      "metadata": {
        "id": "nRIrZ5xpJBX3"
      }
    },
    {
      "cell_type": "code",
      "source": [
        "distribution_heuristique=[]\n",
        "for i in range(1,1001):\n",
        "  joueur2 = Heuristique()\n",
        "  compteur=joueur2.jouer_heuristique()\n",
        "  distribution_heuristique.append(compteur)"
      ],
      "metadata": {
        "id": "SMcxys67Meik"
      },
      "execution_count": 16,
      "outputs": []
    },
    {
      "cell_type": "markdown",
      "source": [
        "#### Tracez le graphique de la distribution"
      ],
      "metadata": {
        "id": "CafVY8ouJFJF"
      }
    },
    {
      "cell_type": "code",
      "source": [
        "plt.hist(distribution_heuristique)\n",
        "plt.xlabel('nombre de cout')\n",
        "plt.ylabel(\"nombre d'occurence\")\n",
        "plt.show()"
      ],
      "metadata": {
        "id": "BPH3wyfgV__h",
        "colab": {
          "base_uri": "https://localhost:8080/",
          "height": 279
        },
        "outputId": "496107f6-9a52-491f-a7b5-f0b7a799fcd0"
      },
      "execution_count": null,
      "outputs": [
        {
          "output_type": "display_data",
          "data": {
            "text/plain": [
              "<Figure size 432x288 with 1 Axes>"
            ],
            "image/png": "[encoded data removed]"
          },
          "metadata": {
            "needs_background": "light"
          }
        }
      ]
    },
    {
      "cell_type": "markdown",
      "source": [
        "## Joueur Version probabiliste simplifiée"
      ],
      "metadata": {
        "id": "CFMxRbGXp69W"
      }
    },
    {
      "cell_type": "code",
      "source": [
        "class  probabiliste_simplifiee(Joueur):\n",
        "  def jouer_probaSimple(self):\n",
        "    # une crée une liste avec l'ensemble de tous les bateaux\n",
        "    bateau_restant=[1,2,3,4,5]\n",
        "    # on crée une grille nulle qui sera notre grille de probabilité \n",
        "    grille_proba=np.zeros((taille_grille, taille_grille))\n",
        "    # on appelle la fonction qui nous retourne la position avec \n",
        "    # la probabilité la plus grande\n",
        "    pos_proba_max=calcul_proba(bateau_restant,grille_proba)\n",
        "    # tant qu'on n'a pas encore gagné et il reste un bateau au moin\n",
        "    while(self.bataille.victoire()==False and len(bateau_restant)>0 and len(self.action_possible)>0):\n",
        "      #on récupère les coordonnées de la position avec la probabilité la plus haute\n",
        "      px=pos_proba_max[0]\n",
        "      py=pos_proba_max[1]\n",
        "      # si la position est une position valide\n",
        "      if pos_proba_max in self.action_possible:\n",
        "        # on la retire de notre liste des positions possible\n",
        "        self.action_possible.remove(pos_proba_max)\n",
        "        # on récupère l'indice de bateau \n",
        "        bat=self.bataille.grille[px,py]\n",
        "        # on joue à cette position avec la proba la plus grande\n",
        "        msg_analyse = self.bataille.joue(position=pos_proba_max)\n",
        "        # on élimine la case ou on a joué de notre grille de probabilité\n",
        "        grille_proba[px,py]=-1\n",
        "        # si le bateau a été coulé alors on le supprime de notre liste de bateau restant\n",
        "        if(msg_analyse==\"coulé\"):\n",
        "          bateau_restant.remove(bat)\n",
        "          \n",
        "          # on test si on a gagné : \n",
        "          if(self.bataille.victoire()==True or len(bateau_restant)==0):\n",
        "            return self.bataille.nombreCoup\n",
        "\n",
        "        # si on a touché un bateau alors on exploite ces case connexes\n",
        "        if(msg_analyse==\"touché\"):\n",
        "          pos_connexe=[(px+1,py),(px-1,py),(px,py+1),(px,py-1)]\n",
        "          # pour chaque case connexe\n",
        "          for p in pos_connexe:\n",
        "            # si la case est dans la liste des positions possible\n",
        "            if p in self.action_possible:\n",
        "              # on retire la case de la liste des positions possibles\n",
        "              self.action_possible.remove(p)\n",
        "              p1=p[0]\n",
        "              p2=p[1]\n",
        "              # on récupère l'indice du bateau\n",
        "              batt=self.bataille.grille[p1,p2]\n",
        "              # on joue dans cette position connexe\n",
        "              msg = self.bataille.joue(position=p)\n",
        "              grille_proba[p1,p2]=-1\n",
        "              if(msg==\"coulé\"):\n",
        "                bateau_restant.remove(batt)\n",
        "                # on test si on a gagné : \n",
        "                if(self.bataille.victoire()==True or len(bateau_restant)==0):\n",
        "                  return self.bataille.nombreCoup\n",
        "      # si on a joue et on arrive a la position 0,0 c'est la fin aussi\n",
        "      if(pos_proba_max==(0,0)):\n",
        "        return self.bataille.nombreCoup\n",
        "      \n",
        "      # sinon on recalcule les probabilité de nouveau sachant les cases deja eliminés \n",
        "      pos_proba_max=calcul_proba(bateau_restant,grille_proba)\n",
        "\n",
        "    # a la fin, on renvoie le nombre de coup\n",
        "    return self.bataille.nombreCoup"
      ],
      "metadata": {
        "id": "VNQZHKTeG958"
      },
      "execution_count": 17,
      "outputs": []
    },
    {
      "cell_type": "code",
      "source": [
        "def calcul_proba(liste_bateau,grille_prb):\n",
        "  # fonction qui permet de calculer pour chaque case,\n",
        "  # la probabilité qu'un bateau peut etre placé\n",
        "\n",
        "  # on pose la position qui contient la proba max est 0,0\n",
        "    pos_max=(0,0)\n",
        "  # on pose la proba max est 0 \n",
        "    prob_max=0\n",
        "    for bateau in liste_bateau:\n",
        "      # pour chaque bateau dans la liste des bateaux on recupere ca taille\n",
        "      taille_bat=bateau_longueur[bateau]\n",
        "      for x in range(taille_grille):\n",
        "        for y in range(taille_grille):\n",
        "          # pour chaque position dans la grille\n",
        "            if(peut_placer_proba(grille_prb, bateau, (x, y), 1)):\n",
        "              # on essaie de placer le bateau horizontalement\n",
        "              # si oui alors :\n",
        "              # on augmente de 1 chaque case ou on peut le placer horizentalement\n",
        "              for taille in range(taille_bat):\n",
        "                grille_prb[x, y + taille] += 1\n",
        "\n",
        "                # ce test permet de mettre a jour la position qui contient\n",
        "                # la probabilité max\n",
        "                if(grille_prb[x, y + taille]>prob_max):\n",
        "                  pro_max=grille_prb[x, y + taille]\n",
        "                  pos_max=(x, y + taille)\n",
        "\n",
        "            # on fait la meme chose mais verticalement\n",
        "            if(peut_placer_proba(grille_prb, bateau, (x, y), 2)):\n",
        "              for taille in range(taille_bat):\n",
        "                grille_prb[x + taille, y] += 1\n",
        "                if(grille_prb[x + taille, y]>prob_max):\n",
        "                  pro_max=grille_prb[x + taille, y]\n",
        "                  pos_max=(x + taille, y)\n",
        "    # pour chaque position, on divise par le nombre total de configuration possible\n",
        "    # pour avoir la probabilité sauf pour les positions eliminé (-1)        \n",
        "    for x in range(taille_grille):\n",
        "      for y in range(taille_grille):\n",
        "        if(grille_prb[x,y] >= 0):\n",
        "          grille_prb[x,y]/= nombre_total_config_bateau_restant(liste_bateau)\n",
        "\n",
        "    prob_max /= nombre_total_config_bateau_restant(liste_bateau)\n",
        "\n",
        "    # a la fin, on remmet toute la matrice à zero, pour recalculé les probabilité \n",
        "    # si besoin dans prochain cas\n",
        "    remmetre_zero_sauf_deja_joue(grille_prb)\n",
        "\n",
        "    # on retourne la position qui a la plus grande probabilité \n",
        "    return pos_max\n",
        "\n",
        "def peut_placer_proba(grille_prb, bateau, position, direction):\n",
        "  # cette fonction diffère un peu de la fonction peut_placer \n",
        "  # dans le sens ou : on peut placer dans une grille que si \n",
        "  # on ne trouve pas de case eliminé (-1) car on travaille ici \n",
        "  # avec la grille de probabilité\n",
        "    Px, Py = position\n",
        "    longueur = bateau_longueur[bateau]\n",
        "    if((Px >= taille_grille) or (Py >= taille_grille) or (Px <0) or (Py <0)):\n",
        "        return False\n",
        "    if(direction != 1 and direction != 2):\n",
        "        return False\n",
        "    if(bateau > 5 or bateau < 1):\n",
        "        return False\n",
        "    else:\n",
        "        if(direction == 1):\n",
        "            if(Py+longueur > len(grille_prb)):\n",
        "                return False\n",
        "            else:\n",
        "                i = 0\n",
        "                while(i < longueur):\n",
        "                    if(grille_prb[Px, Py+i] == -1):\n",
        "                        return False\n",
        "                    i += 1\n",
        "                return True\n",
        "        else:\n",
        "            if(Px+longueur > len(grille_prb)):\n",
        "                return False\n",
        "            else:\n",
        "                i = 0\n",
        "                while(i < longueur):\n",
        "                    if(grille_prb[Px+i, Py] == -1):\n",
        "                        return False\n",
        "                    i += 1\n",
        "                return True\n",
        "\n",
        "\n",
        "def nombre_total_config_bateau_restant(liste_bateau):\n",
        "  '''fonction qui calcul le nombre de configuration possible pour N bateau\n",
        "  stockés dans une liste de bateau dans une grille vide'''\n",
        "  compteur=1\n",
        "  for bat in liste_bateau:\n",
        "    compteur *= nbr_facon_placer_bateau_grille_vide(bat)\n",
        "  return compteur\n",
        "\n",
        "\n",
        "def remmetre_zero_sauf_deja_joue(grille_rz):\n",
        "  '''fonction qui remet ue grille à zero sauf si \n",
        "  la position est deja eliminé (-1) le cas des \n",
        "  cases des exploitées'''\n",
        "  for x in range(taille_grille):\n",
        "    for y in range(taille_grille):\n",
        "      if(grille_rz[x,y]>0):\n",
        "        grille_rz[x,y]=0"
      ],
      "metadata": {
        "id": "we1RLPR3DiEv"
      },
      "execution_count": 18,
      "outputs": []
    },
    {
      "cell_type": "markdown",
      "source": [
        "### Test version Probabiliste simplifiée"
      ],
      "metadata": {
        "id": "BYjuuFOGP2hF"
      }
    },
    {
      "cell_type": "code",
      "source": [
        "joueur3 = probabiliste_simplifiee()"
      ],
      "metadata": {
        "id": "Aa6KPhTf_brh"
      },
      "execution_count": null,
      "outputs": []
    },
    {
      "cell_type": "markdown",
      "source": [
        "#### affichage de la grille avant de jouer"
      ],
      "metadata": {
        "id": "8EAl_kUYP-P4"
      }
    },
    {
      "cell_type": "code",
      "source": [
        "joueur3.afficher_bataille()"
      ],
      "metadata": {
        "colab": {
          "base_uri": "https://localhost:8080/",
          "height": 269
        },
        "id": "fSLagBIa_emt",
        "outputId": "01fb0359-1fab-4a38-f095-70655218666c"
      },
      "execution_count": null,
      "outputs": [
        {
          "output_type": "display_data",
          "data": {
            "text/plain": [
              "<Figure size 432x288 with 1 Axes>"
            ],
            "image/png": "[encoded data removed]"
          },
          "metadata": {
            "needs_background": "light"
          }
        }
      ]
    },
    {
      "cell_type": "markdown",
      "source": [
        "#### joueur et voir le nombre de coup"
      ],
      "metadata": {
        "id": "R0Er8twsQB2w"
      }
    },
    {
      "cell_type": "code",
      "source": [
        "joueur3.jouer_probaSimple()"
      ],
      "metadata": {
        "colab": {
          "base_uri": "https://localhost:8080/"
        },
        "id": "pu_N--CY_jb4",
        "outputId": "a78c876d-dcc5-4b76-ba8e-3201262f9205"
      },
      "execution_count": null,
      "outputs": [
        {
          "output_type": "execute_result",
          "data": {
            "text/plain": [
              "78"
            ]
          },
          "metadata": {},
          "execution_count": 74
        }
      ]
    },
    {
      "cell_type": "markdown",
      "source": [
        "#### affichage de la grille apres avoir joué"
      ],
      "metadata": {
        "id": "LvxEGgXkQIns"
      }
    },
    {
      "cell_type": "code",
      "source": [
        "joueur3.afficher_bataille()"
      ],
      "metadata": {
        "colab": {
          "base_uri": "https://localhost:8080/",
          "height": 269
        },
        "id": "zfQxV8H8_vfx",
        "outputId": "c196ccda-620b-4320-8f9e-a1f17c337ce4"
      },
      "execution_count": null,
      "outputs": [
        {
          "output_type": "display_data",
          "data": {
            "text/plain": [
              "<Figure size 432x288 with 1 Axes>"
            ],
            "image/png": "[encoded data removed]"
          },
          "metadata": {
            "needs_background": "light"
          }
        }
      ]
    },
    {
      "cell_type": "markdown",
      "source": [
        "###  distribution de la variable aléatoire correspondant au nombre de coups pour terminer une partie"
      ],
      "metadata": {
        "id": "rhIZVB-dQ1_y"
      }
    },
    {
      "cell_type": "markdown",
      "source": [
        "### Attention ça prend du temps"
      ],
      "metadata": {
        "id": "mhyaU55Hky4A"
      }
    },
    {
      "cell_type": "code",
      "source": [
        "distribution_prob=[]\n",
        "for i in range(1,1000):\n",
        "  joueur3 = probabiliste_simplifiee()\n",
        "  compteur=joueur3.jouer_probaSimple()\n",
        "  distribution_prob.append(compteur)"
      ],
      "metadata": {
        "id": "ujJdcArofQGQ"
      },
      "execution_count": null,
      "outputs": []
    },
    {
      "cell_type": "markdown",
      "source": [
        "#### Tracez le graphique de la distribution"
      ],
      "metadata": {
        "id": "34MYnZgDQ9Vb"
      }
    },
    {
      "cell_type": "code",
      "source": [
        "plt.hist(distribution_prob)\n",
        "plt.xlabel('nombre de cout')\n",
        "plt.ylabel(\"nombre d'occurence\")\n",
        "plt.show()"
      ],
      "metadata": {
        "colab": {
          "base_uri": "https://localhost:8080/",
          "height": 279
        },
        "id": "qOQO5YxQm91Z",
        "outputId": "ee9e7988-02a8-4ce9-831b-2c5743b15bfb"
      },
      "execution_count": null,
      "outputs": [
        {
          "output_type": "display_data",
          "data": {
            "text/plain": [
              "<Figure size 432x288 with 1 Axes>"
            ],
            "image/png": "[encoded data removed]"
          },
          "metadata": {
            "needs_background": "light"
          }
        }
      ]
    },
    {
      "cell_type": "markdown",
      "source": [
        "#**Parite 4 : Senseur imparfait : à la recherche de l’USS Scorpion**"
      ],
      "metadata": {
        "id": "ISPm24KsnWUc"
      }
    },
    {
      "cell_type": "code",
      "source": [
        "# vous pouver changer la valeur de ps et la position de l'objet perdu\n",
        "ps = 0.6\n",
        "pos_obj_perdu=(7,1)"
      ],
      "metadata": {
        "id": "yqFYM54EoP86"
      },
      "execution_count": 241,
      "outputs": []
    },
    {
      "cell_type": "markdown",
      "source": [
        "## Recherche d'un objet sans connaissance"
      ],
      "metadata": {
        "id": "UV-OrbfG4xzC"
      }
    },
    {
      "cell_type": "code",
      "source": [
        "def recherche_objet_perdu_simple():\n",
        "  obj_trouve= False\n",
        "  #on initialise le nombre de compteur des essaie à 0\n",
        "  nb_essaie=0\n",
        "  while(obj_trouve != True):\n",
        "    #tout les cases sont equiprobables\n",
        "    for i in range(taille_grille):\n",
        "      for j in range(taille_grille):\n",
        "        nb_essaie+=1\n",
        "        pos_senseur=i,j\n",
        "        #on genere une proba du senseur \n",
        "        proba_senseur = rd.random()\n",
        "        #on test les deux conditions comme demander dans l'énancer\n",
        "        if( pos_senseur == pos_obj_perdu and (proba_senseur >= ps) ):\n",
        "          obj_trouve=True\n",
        "          return nb_essaie"
      ],
      "metadata": {
        "id": "i2nzRIHQohX_"
      },
      "execution_count": 242,
      "outputs": []
    },
    {
      "cell_type": "markdown",
      "source": [
        "### test"
      ],
      "metadata": {
        "id": "E1NlpDDct5qH"
      }
    },
    {
      "cell_type": "code",
      "source": [
        "recherche_objet_perdu_simple()"
      ],
      "metadata": {
        "colab": {
          "base_uri": "https://localhost:8080/"
        },
        "id": "m-lBb-w_ryn2",
        "outputId": "bb465b10-d3e8-479f-86f9-b4288d0d98b7"
      },
      "execution_count": 107,
      "outputs": [
        {
          "output_type": "execute_result",
          "data": {
            "text/plain": [
              "66"
            ]
          },
          "metadata": {},
          "execution_count": 107
        }
      ]
    },
    {
      "cell_type": "markdown",
      "source": [
        "## Recherche sous marin"
      ],
      "metadata": {
        "id": "FUKakG2R48zD"
      }
    },
    {
      "cell_type": "code",
      "source": [
        "def genere_grille_float():\n",
        "  # generer une matrice des float initialisée à zéro\n",
        "    grille=np.zeros((taille_grille, taille_grille),dtype=float)\n",
        "    return grille"
      ],
      "metadata": {
        "id": "FldYlkPanrqC"
      },
      "execution_count": 243,
      "outputs": []
    },
    {
      "cell_type": "code",
      "source": [
        "def grille_proba_sous_marin():\n",
        "  '''fonction qui genere une matrice de probabilite en prenant compte\n",
        "  des bords et du centre'''\n",
        "  #initialiser une matrice de proba à zero\n",
        "  grille=genere_grille_float()\n",
        "  proba_centre=0.8\n",
        "  proba_bords=0.2\n",
        "  nb_case_centre=6*6\n",
        "  #liste des bords\n",
        "  liste_ferme=[0, 1, taille_grille - 1, taille_grille - 2]\n",
        "  #parcourir la matrice\n",
        "  for i in range(taille_grille):\n",
        "    for j in range(taille_grille):\n",
        "      # si la position est une position de bord alors elle a une proba entre 0.0 et 0.3\n",
        "      if( (i in liste_ferme) or (j in liste_ferme) ):\n",
        "        grille[i][j]=proba_centre/nb_case_centre\n",
        "        proba_centre-=grille[i][j]\n",
        "      # sinon les positions du centre ont une proba entre 0.31 et 1.0\n",
        "      else:\n",
        "        grille[i][j]=proba_bords/(taille_grille*taille_grille-nb_case_centre)\n",
        "        proba_bords-=grille[i][j]\n",
        "  return grille"
      ],
      "metadata": {
        "id": "fK50BGysoa4W"
      },
      "execution_count": 244,
      "outputs": []
    },
    {
      "cell_type": "code",
      "source": [
        "grille_proba_sous_marin()"
      ],
      "metadata": {
        "colab": {
          "base_uri": "https://localhost:8080/"
        },
        "id": "_AE-KnGZxo8j",
        "outputId": "597266ec-79bb-4502-928a-266440b40316"
      },
      "execution_count": 212,
      "outputs": [
        {
          "output_type": "execute_result",
          "data": {
            "text/plain": [
              "array([[0.02222222, 0.02160494, 0.0210048 , 0.02042133, 0.01985408,\n",
              "        0.01930257, 0.01876639, 0.0182451 , 0.01773829, 0.01724556],\n",
              "       [0.01676652, 0.01630078, 0.01584798, 0.01540776, 0.01497977,\n",
              "        0.01456366, 0.01415912, 0.01376581, 0.01338343, 0.01301166],\n",
              "       [0.01265023, 0.01229883, 0.003125  , 0.00307617, 0.00302811,\n",
              "        0.00298079, 0.00293422, 0.00288837, 0.0119572 , 0.01162505],\n",
              "       [0.01130214, 0.01098819, 0.00284324, 0.00279881, 0.00275508,\n",
              "        0.00271203, 0.00266966, 0.00262795, 0.01068296, 0.01038621],\n",
              "       [0.01009771, 0.00981721, 0.00258688, 0.00254646, 0.00250668,\n",
              "        0.00246751, 0.00242895, 0.002391  , 0.00954451, 0.00927939],\n",
              "       [0.00902163, 0.00877103, 0.00235364, 0.00231687, 0.00228067,\n",
              "        0.00224503, 0.00220995, 0.00217542, 0.00852739, 0.00829052],\n",
              "       [0.00806022, 0.00783633, 0.00214143, 0.00210797, 0.00207503,\n",
              "        0.00204261, 0.00201069, 0.00197928, 0.00761865, 0.00740702],\n",
              "       [0.00720127, 0.00700124, 0.00194835, 0.00191791, 0.00188794,\n",
              "        0.00185844, 0.0018294 , 0.00180082, 0.00680676, 0.00661768],\n",
              "       [0.00643386, 0.00625514, 0.00608138, 0.00591246, 0.00574822,\n",
              "        0.00558855, 0.00543331, 0.00528239, 0.00513565, 0.004993  ],\n",
              "       [0.0048543 , 0.00471946, 0.00458836, 0.00446091, 0.004337  ,\n",
              "        0.00421652, 0.0040994 , 0.00398553, 0.00387482, 0.00376718]])"
            ]
          },
          "metadata": {},
          "execution_count": 212
        }
      ]
    },
    {
      "cell_type": "code",
      "source": [
        "def mise_a_jour(grille_p,pos_max):\n",
        "  '''fonction qui permet de mettre a jour la matrice de probabilite\n",
        "  qui prend en compte l'ancienne position max et calcule ensuite\n",
        "  les nouvelles probabilités'''\n",
        "  # recuperer les coordonnées de l'ancienne pos max\n",
        "  px=pos_max[0]\n",
        "  py=pos_max[1]\n",
        "  # recuperer la valeur du proba max precedente\n",
        "  ancienne_proba_max = grille_p[px,py]\n",
        "  # calculer la nouvelle proba pour l'ancienne proba max\n",
        "  nouvelle_proba_max = (ancienne_proba_max * (1 - ps)) / (1 - ancienne_proba_max * ps)\n",
        "  grille_p[px,py] = nouvelle_proba_max\n",
        "  # le facteur de mise a jour\n",
        "  facteur = (1 - ancienne_proba_max * ps)\n",
        "  #  mise a jour des toutes les positions\n",
        "  for i in range(taille_grille):\n",
        "    for j in range(taille_grille):\n",
        "      if (i,j) != pos_max:\n",
        "        grille_p[i,j] = grille_p[i,j] / facteur"
      ],
      "metadata": {
        "id": "QgGdeSxg1_jq"
      },
      "execution_count": 245,
      "outputs": []
    },
    {
      "cell_type": "code",
      "source": [
        "def recherche_obj_perdu_sous_marin(pos_objet_perdu):\n",
        "  #on genere une grille de proba\n",
        "  grille=grille_proba_sous_marin()\n",
        "  # variable booleene pour arreter le processus\n",
        "  trouve = False\n",
        "  # initialisation d'un compteur \n",
        "  compteur = 0\n",
        "  while (trouve==False):\n",
        "    compteur+=1\n",
        "    # on cherche la position avec la proba max dans notre grille\n",
        "    position_max_proba = np.unravel_index(grille.argmax(),grille.shape)\n",
        "    # on test si le senseur détecte le sous marin\n",
        "    proba_senseur = rd.random()\n",
        "    if( position_max_proba == pos_obj_perdu and (proba_senseur >=ps) ):\n",
        "      trouve = True\n",
        "      return compteur\n",
        "    else:\n",
        "      # sinon on mit a jour notre proba et on refait le processus\n",
        "      mise_a_jour(grille,position_max_proba)"
      ],
      "metadata": {
        "id": "LDetIfKvyOAc"
      },
      "execution_count": 246,
      "outputs": []
    },
    {
      "cell_type": "markdown",
      "source": [
        "### test"
      ],
      "metadata": {
        "id": "0cRJMDTZ7ywj"
      }
    },
    {
      "cell_type": "code",
      "source": [
        "recherche_obj_perdu_sous_marin(pos_obj_perdu)"
      ],
      "metadata": {
        "id": "XHtyeBpB4gdK",
        "colab": {
          "base_uri": "https://localhost:8080/"
        },
        "outputId": "3b50bf5b-c431-4dff-e61f-08e599e8903c"
      },
      "execution_count": 250,
      "outputs": [
        {
          "output_type": "execute_result",
          "data": {
            "text/plain": [
              "51"
            ]
          },
          "metadata": {},
          "execution_count": 250
        }
      ]
    }
  ]
}